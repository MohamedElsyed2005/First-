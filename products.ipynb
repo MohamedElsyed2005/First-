{
 "cells": [
  {
   "cell_type": "code",
   "execution_count": 2,
   "metadata": {},
   "outputs": [
    {
     "name": "stdout",
     "output_type": "stream",
     "text": [
      "            total_price\n",
      "product_id             \n",
      "2               5486.56\n",
      "3                264.72\n",
      "4                 15.49\n",
      "6               4799.30\n",
      "7                171.67\n",
      "9               1154.88\n",
      "10              4453.92\n",
      "12               113.02\n",
      "16              5704.38\n",
      "18               116.45\n",
      "19              1195.08\n",
      "20              1488.63\n",
      "23              1572.05\n",
      "24              3726.45\n",
      "26              2179.15\n"
     ]
    }
   ],
   "source": [
    "import pandas as pd\n",
    "import numpy as np\n",
    "\n",
    "# Set pandas option to display all rows\n",
    "pd.set_option(\"display.max_rows\", None)\n",
    "\n",
    "# Read the CSV file\n",
    "df = pd.read_csv(\"orders.csv\")\n",
    "\n",
    "# Set the index, drop the 'id' column, sort by index, group by 'product_id', and sum 'total_price'\n",
    "df = df.drop(columns=\"id\").set_index(\"product_id\").sort_index()\n",
    "# select total price col\n",
    "df =  df.loc[:,:\"total_price\":3]\n",
    "df = df.drop(columns=\"order_id\")\n",
    "\n",
    "# make groupby\n",
    "df = df.groupby(\"product_id\").sum()\n",
    "# Print the resulting DataFrame\n",
    "print(df.head(15))\n"
   ]
  },
  {
   "cell_type": "code",
   "execution_count": 3,
   "metadata": {},
   "outputs": [
    {
     "name": "stdout",
     "output_type": "stream",
     "text": [
      "            total_price\n",
      "product_id             \n",
      "98              6962.24\n",
      "            total_price\n",
      "product_id             \n",
      "4                 15.49\n"
     ]
    }
   ],
   "source": [
    "max_price = df.loc[df.total_price == df[\"total_price\"].max()]\n",
    "print(max_price)\n",
    "min_price = df.loc[df.total_price == df[\"total_price\"].min()]\n",
    "print(min_price)"
   ]
  },
  {
   "cell_type": "code",
   "execution_count": 4,
   "metadata": {},
   "outputs": [
    {
     "name": "stdout",
     "output_type": "stream",
     "text": [
      "               product_name\n",
      "product_id                 \n",
      "1                  ubaltprv\n",
      "2                   tDBDlti\n",
      "3             SSoERVQYlXlXo\n",
      "4             bSyPlTJrVTVEn\n",
      "5                    OUlXxH\n",
      "6            dheuOSsoAYqmJz\n",
      "7                    nEGTIy\n",
      "8            fSIziuZEOFPJii\n",
      "9             tTmdXGPMNrTeg\n",
      "10          KmAxMHrdShinJDw\n",
      "11                LblRiqyJT\n",
      "12           lPBcnnwcIYchcj\n",
      "13          bCiTAZqqjcKvYWf\n",
      "14                  XLQiZXh\n",
      "15            EQPiGonyhkocZ\n"
     ]
    }
   ],
   "source": [
    "dt = pd.read_csv(\"products.csv\")\n",
    "dt = dt.iloc[:,1:3].set_index(\"product_id\")\n",
    "print(dt.head(15))"
   ]
  },
  {
   "cell_type": "code",
   "execution_count": 6,
   "metadata": {},
   "outputs": [
    {
     "name": "stdout",
     "output_type": "stream",
     "text": [
      "            total_price     product_name\n",
      "product_id                              \n",
      "2               5486.56          tDBDlti\n",
      "3                264.72    SSoERVQYlXlXo\n",
      "4                 15.49    bSyPlTJrVTVEn\n",
      "6               4799.30   dheuOSsoAYqmJz\n",
      "7                171.67           nEGTIy\n",
      "9               1154.88    tTmdXGPMNrTeg\n",
      "10              4453.92  KmAxMHrdShinJDw\n",
      "12               113.02   lPBcnnwcIYchcj\n",
      "16              5704.38            gBsuy\n",
      "18               116.45           Elsvcn\n",
      "19              1195.08            oOkDI\n",
      "20              1488.63      ZoEVfNBQslG\n",
      "23              1572.05     rnYGyMejKjPU\n",
      "24              3726.45       YQgQAxnvUD\n",
      "26              2179.15        sTDggtLsx\n"
     ]
    }
   ],
   "source": [
    "all_data = pd.merge(df,dt,left_index=True,right_index=True)\n",
    "print(all_data.head(15))"
   ]
  },
  {
   "cell_type": "code",
   "execution_count": 48,
   "metadata": {},
   "outputs": [
    {
     "name": "stdout",
     "output_type": "stream",
     "text": [
      "product_id\n",
      "98    jgwNeIfv\n",
      "Name: product_name, dtype: object\n",
      "product_id\n",
      "4    bSyPlTJrVTVEn\n",
      "Name: product_name, dtype: object\n"
     ]
    }
   ],
   "source": [
    "max_price = all_data.loc[all_data.total_price == all_data[\"total_price\"].max()]\n",
    "print(max_price[\"product_name\"])\n",
    "min_price = all_data.loc[all_data.total_price == all_data[\"total_price\"].min()]\n",
    "print(min_price[\"product_name\"])"
   ]
  }
 ],
 "metadata": {
  "kernelspec": {
   "display_name": "Python 3",
   "language": "python",
   "name": "python3"
  },
  "language_info": {
   "codemirror_mode": {
    "name": "ipython",
    "version": 3
   },
   "file_extension": ".py",
   "mimetype": "text/x-python",
   "name": "python",
   "nbconvert_exporter": "python",
   "pygments_lexer": "ipython3",
   "version": "3.12.1"
  }
 },
 "nbformat": 4,
 "nbformat_minor": 2
}
